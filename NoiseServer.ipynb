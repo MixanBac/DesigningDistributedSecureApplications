{
 "cells": [
  {
   "cell_type": "code",
   "execution_count": 1,
   "id": "6ed7babf-5c0d-49d5-a831-2412bd601907",
   "metadata": {
    "tags": []
   },
   "outputs": [],
   "source": [
    "import socket\n",
    "import cv2\n",
    "import numpy as np\n",
    "import matplotlib.pyplot as plt"
   ]
  },
  {
   "cell_type": "code",
   "execution_count": 2,
   "id": "4634daab-dd0f-47ba-89d1-c77d1e59b6b1",
   "metadata": {
    "tags": []
   },
   "outputs": [],
   "source": [
    "HOST = \"127.0.0.1\""
   ]
  },
  {
   "cell_type": "code",
   "execution_count": 3,
   "id": "07cba34e-13bb-435c-898f-855674b2d3a8",
   "metadata": {
    "tags": []
   },
   "outputs": [],
   "source": [
    "class NoiseServer:\n",
    "    def __init__(self, noise_server_port, final_server_port, block_size=1024):\n",
    "        self.final_server_port = final_server_port\n",
    "        self.noise_server_port = noise_server_port\n",
    "        self.block_size = block_size\n",
    "        \n",
    "        self.socket_server = socket.socket(socket.AF_INET, socket.SOCK_STREAM)\n",
    "        self.socket_server.bind((HOST, noise_server_port))\n",
    "        self.socket_server.listen()\n",
    "         # Sends image\n",
    "        self.socket_client = socket.socket(socket.AF_INET, socket.SOCK_STREAM)\n",
    "    \n",
    "    \n",
    "    def run(self):\n",
    "        # Получение оригинального изображения\n",
    "        img_orig = self.recv_image()\n",
    "        # Добавление шума на оригинальное изображение\n",
    "        img_noise = self.add_noise(img_orig)\n",
    "        with self.socket_client as s:\n",
    "            print(f'Waiting for connetion with port {self.final_server_port}.')\n",
    "            s.connect((HOST, self.final_server_port))\n",
    "            print(f'Connected. Port:{self.final_server_port}. Sending images.')\n",
    "            # Отправка изображения с шумом\n",
    "            self.send_image(img_noise, s)\n",
    "            # Отправка оригинального изображения\n",
    "            self.send_image(img_orig, s)\n",
    " \n",
    "\n",
    "    def recv_image(self):\n",
    "        with self.socket_server as s:\n",
    "            print(f'Waiting for connection on port {self.noise_server_port}.')\n",
    "            conn, addr = s.accept()\n",
    "            print(f'Connected. Port:{self.noise_server_port}.')\n",
    "\n",
    "            # Получение размера изображения\n",
    "            h_bytes = conn.recv(4)\n",
    "            h = int.from_bytes(h_bytes, byteorder='big')\n",
    "            w_bytes = conn.recv(4)\n",
    "            w = int.from_bytes(w_bytes, byteorder='big')\n",
    "            print(f'Размер изображения h = {h} w = {w}.')\n",
    "\n",
    "            # Получение изображения\n",
    "            n = h * w * 3\n",
    "            n_iters = n // self.block_size\n",
    "            n_remainder = n - n_iters * self.block_size\n",
    "            img_bytes = []\n",
    "            for i in range(n_iters):\n",
    "                block = conn.recv(self.block_size)\n",
    "                img_bytes.append(block)\n",
    "            if n_remainder > 0:\n",
    "                block = conn.recv(n_remainder)\n",
    "                img_bytes.append(block)\n",
    "            print(\"Image was received.\")\n",
    "\n",
    "            img_bytes_b = b''.join(img_bytes)\n",
    "            img_np = np.frombuffer(img_bytes_b, dtype='uint8')\n",
    "            img = img_np.reshape(h, w, 3)\n",
    "        return img\n",
    "    \n",
    "    def send_image(self, img, s):  \n",
    "        # Отправка размера изображения\n",
    "        h, w, _ = img.shape\n",
    "        n = h * w * 3  # size of bytes array\n",
    "        h_bytes = h.to_bytes(length=4, byteorder='big')\n",
    "        w_bytes = w.to_bytes(length=4, byteorder='big')\n",
    "        img_bytes = img.tobytes()\n",
    "        assert s.sendall(h_bytes) is None, print(\"Ошибка отправки h_bytes: %s\", e)\n",
    "        assert s.sendall(w_bytes) is None, print(\"Ошибка отправки w_bytes: %s\", e)\n",
    "\n",
    "        # Отправка изображения\n",
    "        n_iters = n // self.block_size\n",
    "        n_remainder = n - n_iters * self.block_size\n",
    "        for i in range(n_iters):\n",
    "            block = img_bytes[self.block_size*i:(i+1)*self.block_size]\n",
    "            assert s.sendall(block) is None, print(\"Ошибка отправки изображения: %s\", e)\n",
    "\n",
    "        if n_remainder > 0:\n",
    "            block = img_bytes[-n_remainder:]\n",
    "            assert s.sendall(block) is None, print(\"Ошибка отправки изображения: %s\", e)\n",
    "        print(\"Изображение успешно отправлено.\")\n",
    "        \n",
    "    def add_noise(self, image):\n",
    "        img = image.copy()\n",
    "        h, w, c = img.shape\n",
    "        # Генерация шума\n",
    "        gaussian = np.random.normal(0, 1, img.size)\n",
    "        gaussian = gaussian.reshape(h, w, c).astype('uint8')\n",
    "        # Добавление шума на изображение\n",
    "        img_gaussian = cv2.add(img, gaussian)\n",
    "        return img_gaussian"
   ]
  },
  {
   "cell_type": "code",
   "execution_count": 4,
   "id": "d01ab55c-be0f-41a5-ac3f-afeb9460b03c",
   "metadata": {
    "tags": []
   },
   "outputs": [],
   "source": [
    "noiseserver = NoiseServer(noise_server_port=5065, final_server_port=5066)"
   ]
  },
  {
   "cell_type": "code",
   "execution_count": 5,
   "id": "2e1a6bd6-db1c-4fab-9bb1-6a2ec2f7e30b",
   "metadata": {
    "tags": []
   },
   "outputs": [
    {
     "name": "stdout",
     "output_type": "stream",
     "text": [
      "Waiting for connection on port 5065.\n",
      "Connected. Port:5065.\n",
      "Размер изображения h = 1280 w = 2048.\n",
      "Image was received.\n",
      "Waiting for connetion with port 5066.\n",
      "Connected. Port:5066. Sending images.\n",
      "Изображение успешно отправлено.\n",
      "Изображение успешно отправлено.\n"
     ]
    }
   ],
   "source": [
    "img = noiseserver.run()"
   ]
  },
  {
   "cell_type": "code",
   "execution_count": null,
   "id": "be46c0fd-7e0f-4883-913a-09dedb4ca8f4",
   "metadata": {},
   "outputs": [],
   "source": []
  }
 ],
 "metadata": {
  "kernelspec": {
   "display_name": "Python 3 (ipykernel)",
   "language": "python",
   "name": "python3"
  },
  "language_info": {
   "codemirror_mode": {
    "name": "ipython",
    "version": 3
   },
   "file_extension": ".py",
   "mimetype": "text/x-python",
   "name": "python",
   "nbconvert_exporter": "python",
   "pygments_lexer": "ipython3",
   "version": "3.11.3"
  }
 },
 "nbformat": 4,
 "nbformat_minor": 5
}
